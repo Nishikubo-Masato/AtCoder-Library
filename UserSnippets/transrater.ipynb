{
 "cells": [
  {
   "cell_type": "code",
   "execution_count": 16,
   "metadata": {},
   "outputs": [],
   "source": [
    "snippets = open('./cpp/usersnippets.txt',mode='w',encoding='utf-8')\n",
    "\n",
    "with open('./cpp/cpp.txt',encoding='utf-8') as f:\n",
    "    lines = f.read()\n",
    "    for l in lines.split(\"\\n\"):\n",
    "        snippets.write('\\\"'+str(l)+'\\\",'+\"\\n\")\n",
    "snippets.close()"
   ]
  }
 ],
 "metadata": {
  "kernelspec": {
   "display_name": "Python 3",
   "language": "python",
   "name": "python3"
  },
  "language_info": {
   "codemirror_mode": {
    "name": "ipython",
    "version": 3
   },
   "file_extension": ".py",
   "mimetype": "text/x-python",
   "name": "python",
   "nbconvert_exporter": "python",
   "pygments_lexer": "ipython3",
   "version": "3.10.4"
  },
  "orig_nbformat": 4
 },
 "nbformat": 4,
 "nbformat_minor": 2
}
